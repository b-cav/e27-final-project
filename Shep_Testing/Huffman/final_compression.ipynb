{
 "cells": [
  {
   "cell_type": "code",
   "execution_count": 47,
   "id": "dae72666",
   "metadata": {},
   "outputs": [],
   "source": [
    "import heapq \n",
    "from collections import Counter"
   ]
  },
  {
   "cell_type": "markdown",
   "id": "c213bc32",
   "metadata": {},
   "source": [
    "# Final Project Huffman Compression Code\n",
    "### Regular huffman encoding/decoding\n"
   ]
  },
  {
   "cell_type": "code",
   "execution_count": null,
   "id": "6ec6523e",
   "metadata": {},
   "outputs": [
    {
     "name": "stdout",
     "output_type": "stream",
     "text": [
      "Basic Codes: {'e': '000', 's': '0010', 'h': '0011', 'i': '0100', 'p': '010100', ',': '010101', ':': '01011000000', '6': '010110000010000', '3': '010110000010001', '/': '0101100000100100', '=': '0101100000100101000', ']': '01011000001001010010', '#': '01011000001001010011', '[': '01011000001001010100', '%': '01011000001001010101', '$': '01011000001001010110', '@': '01011000001001010111', '4': '01011000001001011', '9': '0101100000100110', 'Q': '0101100000100111', 'U': '0101100000101', '*': '0101100000110', 'J': '0101100000111', 'j': '0101100001', 'z': '0101100010', 'q': '0101100011', ';': '01011001000', 'K': '01011001001', 'Y': '01011001010', 'G': '01011001011', 'R': '0101100110', '2': '01011001110000', '0': '01011001110001', 'X': '0101100111001', ')': '010110011101', '(': '010110011110', 'L': '010110011111', 'W': '0101101000', 'S': '0101101001', '-': '010110101', 'P': '010110110', 'A': '010110111', 'y': '010111', 'n': '0110', 'o': '0111', 'l': '10000', 'g': '100010', 'v': '1000110', '?': '1000111000', 'O': '10001110010', '1': '1000111001100', '8': '10001110011010', '7': '1000111001101100', '5': '1000111001101101', 'Z': '100011100110111', 'V': '100011100111', 'T': '100011101', 'M': '1000111100', 'B': '1000111101', 'N': '1000111110', 'C': '10001111110', 'E': '10001111111', 'a': '1001', 't': '1010', 'f': '101100', 'w': '101101', 'd': '10111', ' ': '110', 'm': '111000', 'c': '111001', 'I': '111010000', \"'\": '111010001', 'x': '1110100100', '!': '1110100101', 'F': '11101001100', 'D': '11101001101', 'H': '1110100111', '.': '1110101', 'u': '111011', '\\n': '111100', 'b': '1111010', '\"': '11110110', 'k': '11110111', 'r': '11111'}\n",
      "Message: hello\n",
      "Encoded: 001100010000100000111\n",
      "Decoded: hello\n"
     ]
    }
   ],
   "source": [
    "#################################################################################\n",
    "#IO Helper functions\n",
    "#################################################################################\n",
    "# Reads in a file and returns the text as a string\n",
    "def readfile(pathname):\n",
    "    with open(pathname, \"r\") as f:\n",
    "        text = f.read()\n",
    "    return text\n",
    "\n",
    "# Counts the frequency of each character in a file and returns a dictionary\n",
    "# Planning on sending in War and Peace txt, which is a large sample of the English language\n",
    "def count_frequencies(pathname):\n",
    "    freq = {}\n",
    "    with open(pathname, \"r\") as f:\n",
    "        for char in f.read():\n",
    "            freq[char] = freq.get(char, 0) + 1\n",
    "    return freq\n",
    "\n",
    "# Class for a binary tree node. Holds a character, frequency of that character, and two children\n",
    "class BTNode:\n",
    "    def __init__(self, char=None, freq=0):\n",
    "        self.char = char\n",
    "        self.freq = freq\n",
    "        self.left = None\n",
    "        self.right = None\n",
    "    # \"Magic\" function that allows you to use it in a priority queue\n",
    "    # We are using a min queue so want to pull out lowest frequency first\n",
    "    def __lt__(self, other):\n",
    "        return self.freq < other.freq\n",
    "\n",
    "# Builds the regular huffman tree from a dictionary (freqs) \n",
    "# Returns the tree and freqs for easy access\n",
    "def build_huffman_tree(freqs):\n",
    "    # Make a priority queue which is heapified by minimum frequency \n",
    "    priority_queue = [BTNode(ch, f) for ch, f in freqs.items()]\n",
    "    heapq.heapify(priority_queue)\n",
    "\n",
    "    # loop while it is length greater than 1, pulling out two elements and then merging them\n",
    "    while(len(priority_queue) > 1):\n",
    "        t1 = heapq.heappop(priority_queue)\n",
    "        t2 = heapq.heappop(priority_queue)\n",
    "        tree = BTNode(None, t1.freq + t2.freq) # make new tree with t1 on left, t2 on right\n",
    "        tree.left = t1\n",
    "        tree.right = t2\n",
    "        heapq.heappush(priority_queue, tree) # add the tree back onto the priority queue and loop\n",
    "    huff_tree = priority_queue[0] # return the the one remaining node, the priority tree\n",
    "    return huff_tree\n",
    "\n",
    "# recursively builds the codebook, which maps characters to their codes \n",
    "def build_codebook(node, prefix = \"\", codebook = None):\n",
    "    if codebook is None: \n",
    "        codebook = {}\n",
    "    if node.char is not None: # Base case: if we are at a leaf, add the \n",
    "        codebook[node.char] = prefix\n",
    "    else:\n",
    "        build_codebook(node.left, prefix + \"0\", codebook)\n",
    "        build_codebook(node.right, prefix + \"1\", codebook)\n",
    "    return codebook\n",
    "\n",
    "# encodes a message given a particular codebook\n",
    "def encode_message(message, codes):\n",
    "    encoded_message = \"\".join(codes[ch] for ch in message) # uses generator expression to create encoded message\n",
    "    return encoded_message\n",
    "\n",
    "# decodes a message. Note, requires the huff_tree for decoding\n",
    "def decode_message(encoded_message, huff_tree):\n",
    "    result = [] # holds decoded message\n",
    "    node = huff_tree\n",
    "    for bit in encoded_message:\n",
    "        node = node.left if bit == \"0\" else node.right # go left if 0, go right if 1\n",
    "        if node.char is not None:  # once you get to leaf\n",
    "            result.append(node.char)  # add the correct character to the decoded message\n",
    "            node = huff_tree # start back at the top for next iteration\n",
    "    decoded_message = \"\".join(result)\n",
    "    return decoded_message\n",
    "\n",
    "\n",
    "# Test regular Huffman tree\n",
    "\n",
    "freqs = count_frequencies(\"WarAndPeace.txt\") # get frequencies from file\n",
    "\n",
    "test_text = \"hello\" \n",
    "basic_tree = build_huffman_tree(freqs) # build the huffman tree\n",
    "basic_codes = build_codebook(basic_tree) # build the codebook\n",
    "encoded = encode_message(test_text, basic_codes) # encode the test text\n",
    "decoded = decode_message(encoded, basic_tree) # decode the encoded text\n",
    "print(\"Basic Codes:\", basic_codes)\n",
    "print(\"Message:\", test_text)\n",
    "print(\"Encoded:\", encoded)\n",
    "print(\"Decoded:\", decoded)\n",
    "assert decoded == test_text # make sure it works"
   ]
  },
  {
   "cell_type": "markdown",
   "id": "9008122b",
   "metadata": {},
   "source": [
    "### Test how many bigrams are needed to converge asymptotically using the WarAndPeace text\n"
   ]
  },
  {
   "cell_type": "code",
   "execution_count": null,
   "id": "fd4b02ce",
   "metadata": {},
   "outputs": [
    {
     "name": "stdout",
     "output_type": "stream",
     "text": [
      "Computed K=1000, bits/char=4.0207\n"
     ]
    },
    {
     "data": {
      "image/png": "[encoded data removed]",
      "text/plain": [
       "<Figure size 576x360 with 1 Axes>"
      ]
     },
     "metadata": {
      "needs_background": "light"
     },
     "output_type": "display_data"
    }
   ],
   "source": [
    "import matplotlib.pyplot as plt\n",
    "%matplotlib inline\n",
    "import numpy as np\n",
    "# Computes the expected bits per character\n",
    "\n",
    "def expected_bits(freqs, codebook):\n",
    "    total = sum(freqs.values()) # total number of characters\n",
    "    bits_per_symbol = sum((freqs[s]/total) * len(codebook[s]) for s in freqs) # bits per symbol = sum of prob(s) * length(code(s))\n",
    "    avg_chars = sum((freqs[s]/total) * (2 if len(s)==2 else 1) for s in freqs) # average originial characters per symbol is key becaus you have more total symbols with bigrams\n",
    "    return bits_per_symbol / avg_chars # division gives bits per original character\n",
    "\n",
    "\n",
    "# Identifies the top K bigrams from the text in terms of freqeuncy\n",
    "def top_bigrams(text, K):\n",
    "    counts = Counter(text[i:i+2] for i in range(len(text)-1)) # uses Counter package to count occurences of bigrams in text\n",
    "    return list(bg for bg,_ in counts.most_common(K)) # returns the K most common bigrams as a list\n",
    "\n",
    "\n",
    "# Plots the expected bits per original character as a function of K, the number of top bigrams used\n",
    "# Uses the text to compute frequencies with the top K bigrams included\n",
    "def experiment_plot(text, K_values, sample_every=1):\n",
    "    \"\"\"\n",
    "    text: input string\n",
    "    K_values: iterable of K values (increasing ints) to evaluate\n",
    "    sample_every: only evaluate every sample_every-th K to speed up (optional)\n",
    "    \"\"\"\n",
    "    Ks = []\n",
    "    bits = []\n",
    "\n",
    "    # precompute a big list of top bigrams up to max K needed\n",
    "    K_max = max(K_values)\n",
    "    bigram_list = top_bigrams(text, K_max)\n",
    "\n",
    "    current_set = set()\n",
    "    # We'll add bigrams incrementally so we don't rebuild sets from scratch each iteration\n",
    "    for i, bg in enumerate(bigram_list, start=1):\n",
    "        current_set.add(bg)\n",
    "        if i not in K_values:\n",
    "            continue\n",
    "        # compute freqs with current bigrams\n",
    "        freqs = freqs_with_bigrams(text, current_set)\n",
    "        # build Huffman and codebook (use your implementations)\n",
    "        tree = build_huffman_tree(freqs)\n",
    "        codebook = build_codebook(tree)\n",
    "        # compute expected bits per original character\n",
    "        bpc = expected_bits(freqs, codebook)\n",
    "        Ks.append(i)\n",
    "        bits.append(bpc)\n",
    "\n",
    "    plt.figure(figsize=(8,5))\n",
    "    plt.plot(Ks, bits, marker='.')\n",
    "    plt.xlabel(\"K (number of top bigrams used)\")\n",
    "    plt.ylabel(\"Expected bits per original character\")\n",
    "    plt.title(\"Effect of Top-K bigrams on Huffman coding\")\n",
    "    plt.grid(True)\n",
    "    plt.show()\n",
    "\n",
    "text = readfile(\"WarAndPeace.txt\")\n",
    "# K_values = list(range(1, 1001))   # evaluate every K from 1..1000\n",
    "# experiment_plot(text, K_values)\n",
    "\n",
    "K_values = sorted(set([1] + list(np.linspace(1, 1000, 200, dtype=int))))\n",
    "experiment_plot(text, K_values)"
   ]
  },
  {
   "cell_type": "markdown",
   "id": "c244a11e",
   "metadata": {},
   "source": [
    "From this, we concluded that we need around 800-1000 bigrams in our huffman tree to achieve the full benefit to the expected bits per original character. \n",
    "\n",
    "# Compare the number of bits used to send the test_message when using the bigram tree compared to the Huffman tree"
   ]
  },
  {
   "cell_type": "code",
   "execution_count": null,
   "id": "b724f45a",
   "metadata": {},
   "outputs": [
    {
     "name": "stdout",
     "output_type": "stream",
     "text": [
      "Encoded with bigrams: 34271\n",
      "Encoded regular: 38206\n"
     ]
    }
   ],
   "source": [
    "\n",
    "# walks through the text and returns a list of symbols ready for Huffman counting to make into a tree\n",
    "# importnt note: overlapping bigrams are always given priority on the left (ex: for the, th is picked over he)\n",
    "def replace_bigrams(text, bigram_list):\n",
    "    out = []\n",
    "    i = 0\n",
    "    while i < len(text):\n",
    "        if i+1 < len(text) and text[i:i+2] in bigram_list: # look at next 2 elements, if in bigram list, add that combination to list\n",
    "            out.append(text[i:i+2])\n",
    "            i += 2\n",
    "        else: # else, just add the character normally\n",
    "            out.append(text[i])\n",
    "            i += 1\n",
    "    return out\n",
    "\n",
    "# Create bigram tree and codebook\n",
    "text = readfile(\"WarAndPeace.txt\") \n",
    "K = 1000\n",
    "bigram_list = top_bigrams(text, K)\n",
    "freqs = Counter(replace_bigrams(text, bigram_list))\n",
    "bigram_tree = build_huffman_tree(freqs)\n",
    "bigram_codebook = build_codebook(bigram_tree)\n",
    "\n",
    "# Test bigram Huffman tree\n",
    "test_text = readfile(\"test_message.txt\")\n",
    "encoded_bigram = encode_message(replace_bigrams(test_text, bigram_list), bigram_codebook)\n",
    "print(\"Encoded with bigrams:\", len(encoded_bigram))\n",
    "decoded_bigram = decode_message(encoded_bigram, bigram_tree)\n",
    "\n",
    "assert decoded_bigram == test_text, \"Bigram Decoding did not match original!\"\n",
    "# Test regular Huffman tree\n",
    "freqs = count_frequencies(\"WarAndPeace.txt\")\n",
    "basic_tree = build_huffman_tree(freqs)\n",
    "basic_codes = build_codebook(basic_tree)\n",
    "encoded = encode_message(test_text, basic_codes)\n",
    "print(\"Encoded regular:\", len(encoded))\n",
    "decoded = decode_message(encoded, basic_tree)\n",
    "assert decoded == test_text, \"Basic Decoding did not match original!\""
   ]
  },
  {
   "cell_type": "markdown",
   "id": "c175777a",
   "metadata": {},
   "source": []
  }
 ],
 "metadata": {
  "kernelspec": {
   "display_name": ".venv",
   "language": "python",
   "name": "python3"
  },
  "language_info": {
   "codemirror_mode": {
    "name": "ipython",
    "version": 3
   },
   "file_extension": ".py",
   "mimetype": "text/x-python",
   "name": "python",
   "nbconvert_exporter": "python",
   "pygments_lexer": "ipython3",
   "version": "3.6.6"
  }
 },
 "nbformat": 4,
 "nbformat_minor": 5
}
