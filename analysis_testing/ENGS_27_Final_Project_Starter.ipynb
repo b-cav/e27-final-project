{
  "nbformat": 4,
  "nbformat_minor": 0,
  "metadata": {
    "colab": {
      "provenance": []
    },
    "kernelspec": {
      "name": "python3",
      "display_name": "Python 3"
    },
    "language_info": {
      "name": "python"
    }
  },
  "cells": [
    {
      "cell_type": "markdown",
      "source": [
        "# ENGS 27 Final Project Starter Code\n",
        "[Enter Names of Group Members Here]\n",
        "\n",
        "Please copy this code to work on your own version!"
      ],
      "metadata": {
        "id": "x0AjyVnUm_oz"
      }
    },
    {
      "cell_type": "markdown",
      "source": [
        "The following code interfaces with the noisy channel, hosted on a Dartmouth website."
      ],
      "metadata": {
        "id": "BPl2fJZZnK25"
      }
    },
    {
      "cell_type": "code",
      "source": [
        "import subprocess\n",
        "\n",
        "def noisy_channel(bits: str) -> str:\n",
        "    \"\"\"\n",
        "    Calls curl to POST the given bits to the test.py endpoint\n",
        "    and returns the stdout response as a string.\n",
        "    \"\"\"\n",
        "    # Build the curl command and arguments:\n",
        "    cmd = [\n",
        "        \"curl\",\n",
        "        \"-X\", \"POST\",\n",
        "        \"-d\", f\"bits={bits}\",\n",
        "        \"https://engs27.host.dartmouth.edu/cgi-bin/noisychannel.py\"\n",
        "    ]\n",
        "\n",
        "    # Run the command, capture stdout/stderr\n",
        "    result = subprocess.run(\n",
        "        cmd,\n",
        "        stdout=subprocess.PIPE,\n",
        "        stderr=subprocess.PIPE,\n",
        "        text=True,       # return strings instead of bytes\n",
        "        check=False      # we’ll inspect returncode manually\n",
        "    )\n",
        "\n",
        "    if result.returncode != 0:\n",
        "        # curl failed. You can raise, log, or return stderr.\n",
        "        raise RuntimeError(f\"curl failed (code {result.returncode}):\\n{result.stderr}\")\n",
        "\n",
        "    return result.stdout.split(\"<body>\")[1].split(\"</body>\")[0]\n"
      ],
      "metadata": {
        "id": "ZrMhDgAQnIEo"
      },
      "execution_count": null,
      "outputs": []
    },
    {
      "cell_type": "markdown",
      "source": [
        "#Example Usage"
      ],
      "metadata": {
        "id": "XtUhazgjpWp2"
      }
    },
    {
      "cell_type": "code",
      "source": [
        "noisy_channel(\"000101010101010101010100010101010101010101010101010101010101010101010\")"
      ],
      "metadata": {
        "colab": {
          "base_uri": "https://localhost:8080/",
          "height": 35
        },
        "id": "ok9Ic7z3pVvm",
        "outputId": "d0aece1e-ae0b-47f0-aeb5-22a2c08c99ce"
      },
      "execution_count": null,
      "outputs": [
        {
          "output_type": "execute_result",
          "data": {
            "text/plain": [
              "'000101010101010101010101010101010101010101010101010101010101010101010'"
            ],
            "application/vnd.google.colaboratory.intrinsic+json": {
              "type": "string"
            }
          },
          "metadata": {},
          "execution_count": 16
        }
      ]
    },
    {
      "cell_type": "code",
      "source": [],
      "metadata": {
        "id": "oq1ZjizXpdbE"
      },
      "execution_count": null,
      "outputs": []
    }
  ]
}